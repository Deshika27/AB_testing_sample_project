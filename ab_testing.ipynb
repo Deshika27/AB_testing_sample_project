{
 "cells": [
  {
   "cell_type": "markdown",
   "id": "81790105-9717-45cc-9a2f-a301c7af6f6b",
   "metadata": {},
   "source": [
    "# simulating click data for A/B Testing"
   ]
  },
  {
   "cell_type": "code",
   "execution_count": 1,
   "id": "b26014cf-68ec-49c1-b999-36a18388ad34",
   "metadata": {},
   "outputs": [
    {
     "data": {
      "text/html": [
       "<div>\n",
       "<style scoped>\n",
       "    .dataframe tbody tr th:only-of-type {\n",
       "        vertical-align: middle;\n",
       "    }\n",
       "\n",
       "    .dataframe tbody tr th {\n",
       "        vertical-align: top;\n",
       "    }\n",
       "\n",
       "    .dataframe thead th {\n",
       "        text-align: right;\n",
       "    }\n",
       "</style>\n",
       "<table border=\"1\" class=\"dataframe\">\n",
       "  <thead>\n",
       "    <tr style=\"text-align: right;\">\n",
       "      <th></th>\n",
       "      <th>click</th>\n",
       "      <th>group</th>\n",
       "    </tr>\n",
       "  </thead>\n",
       "  <tbody>\n",
       "    <tr>\n",
       "      <th>0</th>\n",
       "      <td>0</td>\n",
       "      <td>exp</td>\n",
       "    </tr>\n",
       "    <tr>\n",
       "      <th>1</th>\n",
       "      <td>1</td>\n",
       "      <td>exp</td>\n",
       "    </tr>\n",
       "    <tr>\n",
       "      <th>2</th>\n",
       "      <td>1</td>\n",
       "      <td>exp</td>\n",
       "    </tr>\n",
       "    <tr>\n",
       "      <th>3</th>\n",
       "      <td>1</td>\n",
       "      <td>exp</td>\n",
       "    </tr>\n",
       "    <tr>\n",
       "      <th>4</th>\n",
       "      <td>1</td>\n",
       "      <td>exp</td>\n",
       "    </tr>\n",
       "  </tbody>\n",
       "</table>\n",
       "</div>"
      ],
      "text/plain": [
       "   click group\n",
       "0      0   exp\n",
       "1      1   exp\n",
       "2      1   exp\n",
       "3      1   exp\n",
       "4      1   exp"
      ]
     },
     "execution_count": 1,
     "metadata": {},
     "output_type": "execute_result"
    }
   ],
   "source": [
    "# generate data\n",
    "import numpy as np\n",
    "import pandas as pd\n",
    "from scipy.stats import norm\n",
    "\n",
    "N_exp = 10000\n",
    "N_con = 10000\n",
    "\n",
    "# generating click data\n",
    "click_exp = pd.Series(np.random.binomial(1,0.4,size = N_exp))\n",
    "click_con = pd.Series(np.random.binomial(1,0.2,size = N_con))\n",
    "\n",
    "# generate grop indentifier\n",
    "exp_id = pd.Series(np.repeat(\"exp\", N_exp))\n",
    "con_id = pd.Series(np.repeat(\"con\", N_con))\n",
    "\n",
    "df_exp = pd.concat([click_exp,exp_id], axis = 1)\n",
    "df_con = pd.concat([click_con,con_id], axis = 1)\n",
    "\n",
    "df_exp.columns = [\"click\",\"group\"]\n",
    "df_con.columns = [\"click\",\"group\"]\n",
    "\n",
    "df_ab_test = pd.concat([df_exp,df_con], axis = 0).reset_index(drop=True)\n",
    "df_ab_test.head()"
   ]
  },
  {
   "cell_type": "code",
   "execution_count": 2,
   "id": "0f9d9119-78b6-450f-8617-e6e3ac867bc2",
   "metadata": {},
   "outputs": [
    {
     "name": "stdout",
     "output_type": "stream",
     "text": [
      "Number of clicks in control: 1947\n",
      "Number of clicks in experimental: 3957\n",
      "Click probability in control group: 0.1947\n",
      "Click probability in experimental group: 0.3957\n"
     ]
    }
   ],
   "source": [
    "# calculate p hat for exp and con groups\n",
    "X_con = df_ab_test.groupby(\"group\")[\"click\"].sum().loc[\"con\"]\n",
    "X_exp = df_ab_test.groupby(\"group\")[\"click\"].sum().loc[\"exp\"]\n",
    "print(\"Number of clicks in control:\", X_con)\n",
    "print(\"Number of clicks in experimental:\", X_exp)\n",
    "\n",
    "p_con_hat = X_con/N_con\n",
    "p_exp_hat = X_exp/N_exp\n",
    "print(\"Click probability in control group:\", p_con_hat)\n",
    "print(\"Click probability in experimental group:\", p_exp_hat)"
   ]
  },
  {
   "cell_type": "code",
   "execution_count": 3,
   "id": "41cdf445-b70f-45f9-81ff-4a6f6b8e3dc9",
   "metadata": {},
   "outputs": [
    {
     "name": "stdout",
     "output_type": "stream",
     "text": [
      "p^_pooled is: 0.2952\n",
      "pooled variance is: 4.1611392000000004e-05\n",
      "standard error is: 0.006450689265497138\n"
     ]
    }
   ],
   "source": [
    "# p pooled \n",
    "p_pooled_hat = (X_con+X_exp)/(N_con+N_exp)\n",
    "\n",
    "# pooled variance\n",
    "p_pooled_var = p_pooled_hat * (1-p_pooled_hat) * (1/N_con + 1/N_exp)\n",
    "\n",
    "# standard error\n",
    "SE = np.sqrt(p_pooled_var)\n",
    "\n",
    "print(\"p^_pooled is:\", p_pooled_hat)\n",
    "print(\"pooled variance is:\", p_pooled_var)\n",
    "print(\"standard error is:\", SE)"
   ]
  },
  {
   "cell_type": "code",
   "execution_count": 4,
   "id": "617e7ebf-4c8e-4956-a5bc-dbe365c27b6d",
   "metadata": {},
   "outputs": [
    {
     "name": "stdout",
     "output_type": "stream",
     "text": [
      "Test statistics for 2-sample Z-test is: -31.15946090832348\n"
     ]
    }
   ],
   "source": [
    "# test statistics\n",
    "test_stat = (p_con_hat - p_exp_hat)/SE\n",
    "print(\"Test statistics for 2-sample Z-test is:\", test_stat)"
   ]
  },
  {
   "cell_type": "code",
   "execution_count": 5,
   "id": "24091bc2-6893-4969-a222-d1497737a496",
   "metadata": {},
   "outputs": [
    {
     "name": "stdout",
     "output_type": "stream",
     "text": [
      "Alpha: significance level is: 0.05\n",
      "Z-critical value from standard normal distribution is: 1.959963984540054\n",
      "P-valur of the 2-sample Z-test is: 0.0\n"
     ]
    }
   ],
   "source": [
    "# check the significance\n",
    "alpha = 0.05\n",
    "print(\"Alpha: significance level is:\", alpha)\n",
    "\n",
    "Z_crit = norm.ppf(1-alpha/2)\n",
    "print(\"Z-critical value from standard normal distribution is:\", Z_crit)\n",
    "\n",
    "# p-value\n",
    "p_value = 2 * norm.sf(abs(test_stat))\n",
    "print(\"P-valur of the 2-sample Z-test is:\", round(p_value,2))"
   ]
  },
  {
   "cell_type": "markdown",
   "id": "a93181b7-c6c0-4d66-9fdd-1ccb07efd123",
   "metadata": {},
   "source": [
    "## since p-value < 0.05 we can conclude that null hypothesis can be rejected. that is there is a statistical significance between the experimental vesrion of the product and  the control version of the product"
   ]
  },
  {
   "cell_type": "code",
   "execution_count": null,
   "id": "b3385e5b-71c1-4667-ab50-44e3328dacb6",
   "metadata": {},
   "outputs": [],
   "source": []
  }
 ],
 "metadata": {
  "kernelspec": {
   "display_name": "Python 3 (ipykernel)",
   "language": "python",
   "name": "python3"
  },
  "language_info": {
   "codemirror_mode": {
    "name": "ipython",
    "version": 3
   },
   "file_extension": ".py",
   "mimetype": "text/x-python",
   "name": "python",
   "nbconvert_exporter": "python",
   "pygments_lexer": "ipython3",
   "version": "3.13.2"
  }
 },
 "nbformat": 4,
 "nbformat_minor": 5
}
